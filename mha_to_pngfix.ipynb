{
 "cells": [
  {
   "cell_type": "code",
   "execution_count": 1,
   "source": [
    "import os\n",
    "from os import walk\n",
    "import SimpleITK\n",
    "import SimpleITK as sitk\n",
    "\n",
    "import numpy as np\n",
    "import pandas as pd\n",
    "from pandas import DataFrame\n",
    "from medpy.io import load, save\n",
    "import random\n",
    "import PIL\n",
    "from PIL import Image\n",
    "import scipy.ndimage\n",
    "import json\n",
    "import math\n",
    "import matplotlib.pyplot as plt\n",
    "import matplotlib.patches as patches\n",
    "%matplotlib inline \n",
    "plt.rcParams['figure.figsize'] = [10, 10]\n",
    "\n",
    "import utils\n",
    "import time\n",
    "from tqdm import tqdm\n",
    "\n",
    "config = json.load(open('config.json'))\n",
    "data_folder_path = config[\"data_folder_path\"]\n",
    "metadata_folder = f\"{data_folder_path}/extended_training_data/metadata/\"\n",
    "mha_folder = f\"{data_folder_path}/extended_training_data/images/C0.25/\"\n",
    "png_folder = f\"{data_folder_path}/extended_training_data/images/C0.25_after_pngfix/\""
   ],
   "outputs": [],
   "metadata": {}
  },
  {
   "cell_type": "code",
   "execution_count": 7,
   "source": [
    "\n",
    "image_names = next(walk(mha_folder))[2]\n",
    "image_names = np.sort(image_names).copy()\n",
    "old_csv = pd.read_csv(f\"{metadata_folder}metadata_before.csv\")\n",
    "old_csv = old_csv.sort_values('img_name', ascending=True)\n",
    "len(old_csv)\n",
    "assert np.all(old_csv['img_name'].to_numpy().astype('<U19') == image_names)\n",
    "np.all(old_csv['img_name'].to_numpy().astype('<U19') == image_names)\n"
   ],
   "outputs": [
    {
     "output_type": "execute_result",
     "data": {
      "text/plain": [
       "True"
      ]
     },
     "metadata": {},
     "execution_count": 7
    }
   ],
   "metadata": {}
  },
  {
   "cell_type": "code",
   "execution_count": 8,
   "source": [
    "gen_metadata = {\n",
    "        'height':    [],\n",
    "        'img_name':  [],\n",
    "        'width':     [],\n",
    "        'x'    :     [],\n",
    "        'y'    :     [],\n",
    "        'original_name': [],\n",
    "        'dataset':   [],\n",
    "        }\n",
    "\n",
    "for i, fname in enumerate(image_names):\n",
    "    # png\n",
    "    img_array = load(f\"{mha_folder}{fname}\")[0].T\n",
    "    img_array = utils.scale(img_array,0,255).astype(np.uint8)\n",
    "    img = Image.fromarray(img_array).convert(\"L\")\n",
    "    new_name = f\"{fname.split('.')[0]}.png\"\n",
    "    \n",
    "    #csv\n",
    "    df = old_csv.iloc[i]\n",
    "    \n",
    "    if df['img_name'].split('.')[0] == new_name.split('.')[0]: # check if file in csv original csv is the same as \n",
    "    \n",
    "        gen_metadata['height'].append(df['height'])\n",
    "        gen_metadata['original_name'].append('-')\n",
    "        gen_metadata['width'].append(df['width'])\n",
    "        gen_metadata['x'].append(df['x'])\n",
    "        gen_metadata['y'].append(df['y'])\n",
    "        gen_metadata['img_name'].append(f\"{df['img_name'].split('.')[0]}.png\")\n",
    "        gen_metadata['dataset'].append('-')\n",
    "        \n",
    "        \n",
    "        img.save(f\"{png_folder}{new_name}\")\n",
    "    else:\n",
    "        print(i)\n",
    "        print(df['img_name'].split('.')[0])\n",
    "        print(new_name.split('.')[0])\n",
    "        break\n",
    "    \n",
    "\n",
    "pd.DataFrame(gen_metadata, columns=['height', 'img_name', 'width', 'x', 'y', 'original_name', 'dataset']).to_csv(f\"{metadata_folder}/metadata_after.csv\",index=False)"
   ],
   "outputs": [],
   "metadata": {}
  },
  {
   "cell_type": "code",
   "execution_count": null,
   "source": [],
   "outputs": [],
   "metadata": {}
  }
 ],
 "metadata": {
  "orig_nbformat": 4,
  "language_info": {
   "name": "python",
   "version": "3.9.6",
   "mimetype": "text/x-python",
   "codemirror_mode": {
    "name": "ipython",
    "version": 3
   },
   "pygments_lexer": "ipython3",
   "nbconvert_exporter": "python",
   "file_extension": ".py"
  },
  "kernelspec": {
   "name": "python3",
   "display_name": "Python 3.9.6 64-bit ('isimi-2021': conda)"
  },
  "interpreter": {
   "hash": "d9005f7766a5b51ae38a5eda54756587117839652b4f118131334a2bcd1741cc"
  }
 },
 "nbformat": 4,
 "nbformat_minor": 2
}