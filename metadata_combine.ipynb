{
    "cells": [
        {
            "cell_type": "code",
            "execution_count": 13,
            "source": [
                "from os import walk\n",
                "import json\n",
                "import pandas as pd\n",
                "\n",
                "config = json.load(open('config.json'))\n",
                "data_folder_path = config[\"data_folder_path\"]\n",
                "metadata_folder = f\"{data_folder_path}/extended_training_data/metadata/\"\n",
                "\n",
                "meta_data_files = next(walk(metadata_folder))[2]\n",
                "\n",
                "gen_metadata = {\n",
                "        'height':    [],\n",
                "        'img_name':  [],\n",
                "        'width':     [],\n",
                "        'x'    :     [],\n",
                "        'y'    :     [],\n",
                "        'original_name': [],\n",
                "        'dataset':   [],\n",
                "        }\n"
            ],
            "outputs": [],
            "metadata": {}
        },
        {
            "cell_type": "code",
            "execution_count": 14,
            "source": [
                "df = pd.DataFrame(gen_metadata)\n",
                "for fname in meta_data_files:\n",
                "    temp = pd.read_csv(f\"{metadata_folder}/{fname}\")\n",
                "    df = df.append(temp)\n",
                "    print(len(df))\n",
                "    "
            ],
            "outputs": [
                {
                    "output_type": "stream",
                    "name": "stdout",
                    "text": [
                        "310\n",
                        "620\n",
                        "930\n"
                    ]
                }
            ],
            "metadata": {}
        },
        {
            "cell_type": "code",
            "execution_count": null,
            "source": [
                "df.to_csv(f\"{metadata_folder}/metadata.csv\")"
            ],
            "outputs": [],
            "metadata": {}
        }
    ],
    "metadata": {
        "orig_nbformat": 4,
        "language_info": {
            "name": "python",
            "version": "3.9.6",
            "mimetype": "text/x-python",
            "codemirror_mode": {
                "name": "ipython",
                "version": 3
            },
            "pygments_lexer": "ipython3",
            "nbconvert_exporter": "python",
            "file_extension": ".py"
        },
        "kernelspec": {
            "name": "python3",
            "display_name": "Python 3.9.6 64-bit ('isimi-2021': conda)"
        },
        "interpreter": {
            "hash": "d9005f7766a5b51ae38a5eda54756587117839652b4f118131334a2bcd1741cc"
        }
    },
    "nbformat": 4,
    "nbformat_minor": 2
}