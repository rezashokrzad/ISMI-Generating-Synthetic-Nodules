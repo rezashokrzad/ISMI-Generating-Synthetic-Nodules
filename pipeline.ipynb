{
 "cells": [
  {
   "cell_type": "markdown",
   "source": [
    "<a href=\"https://colab.research.google.com/github/BraveheartNL/ISIMI-2021/blob/Lennart_Project/Project/segment_nodule.ipynb\" target=\"_parent\"><img src=\"https://colab.research.google.com/assets/colab-badge.svg\" alt=\"Open In Colab\"/></a>"
   ],
   "metadata": {
    "colab_type": "text",
    "id": "view-in-github"
   }
  },
  {
   "cell_type": "code",
   "execution_count": 2,
   "source": [
    "import os\n",
    "from os import walk\n",
    "import SimpleITK\n",
    "import SimpleITK as sitk\n",
    "\n",
    "import numpy as np\n",
    "import pandas as pd\n",
    "from pandas import DataFrame\n",
    "from medpy.io import load, save\n",
    "import random\n",
    "import PIL\n",
    "from PIL import Image\n",
    "import scipy.ndimage\n",
    "import json\n",
    "import math\n",
    "import matplotlib.pyplot as plt\n",
    "import matplotlib.patches as patches\n",
    "%matplotlib inline \n",
    "plt.rcParams['figure.figsize'] = [10, 10]\n",
    "\n",
    "import utils\n",
    "import time\n",
    "from tqdm import tqdm"
   ],
   "outputs": [],
   "metadata": {
    "id": "-jSi12GEWUxh"
   }
  },
  {
   "cell_type": "code",
   "execution_count": 3,
   "source": [
    "config = json.load(open('config.json'))\n",
    "data_folder_path = config[\"data_folder_path\"]\n",
    "ct_folder = f'{data_folder_path}/luna16_nodules/nodule_patches/'\n",
    "mask_folder = f'{data_folder_path}/luna16_nodules/segmentation/'\n",
    "original_xray_folder = f\"{data_folder_path}/original/\"\n",
    "xray_folder = f\"{data_folder_path}/generation_data/preprocessed_images/\"\n",
    "lung_segment_folder = f\"{data_folder_path}/generation_data/lung_segmentations/\"\n",
    "results_folder = f\"{data_folder_path}/extended_training_data/\"\n",
    "evaluation_data_folder = f\"{data_folder_path}/evaluation_data/\"\n",
    "training_data_folder = f\"{data_folder_path}/preprocessed/\"\n",
    "metadata_folder = f\"{data_folder_path}/extended_training_data/metadata/\"\n",
    "\n",
    "_, _, xray_names = next(walk(xray_folder))\n",
    "_, _, ct_names = next(walk(ct_folder))\n",
    "_, _, mask_names = next(walk(mask_folder))\n",
    "_, _, lung_segment_names = next(walk(lung_segment_folder))\n",
    "_, _, training_data_names = next(walk(training_data_folder))\n",
    "\n",
    "ct_names = np.sort(ct_names)\n",
    "mask_names = np.sort(mask_names)\n",
    "xray_names = np.sort(xray_names)\n",
    "lung_segment_names = np.sort(lung_segment_names)"
   ],
   "outputs": [],
   "metadata": {
    "id": "DlZ0dBTfWUxr"
   }
  },
  {
   "cell_type": "code",
   "execution_count": 4,
   "source": [
    "samples_count = 1\n",
    "exception_count = 0\n",
    "in_development = True\n",
    "\n",
    "\n",
    "if (in_development):\n",
    "    fig, ax = plt.subplots(samples_count, 3)\n",
    "\n",
    "gen_metadata = {\n",
    "        'height':    [],\n",
    "        'img_name':  [],\n",
    "        'width':     [],\n",
    "        'x'    :     [],\n",
    "        'y'    :     [],\n",
    "        'original_name': [],\n",
    "        'dataset':   [],\n",
    "        }\n",
    "\n",
    "\n",
    "for i in tqdm(range(samples_count)):\n",
    "    try:\n",
    "        xray_idx = np.random.randint(0,len(xray_names))\n",
    "        xray, xray_header = load(os.path.join(xray_folder, xray_names[xray_idx]))\n",
    "        xray = xray.astype(float)\n",
    "        spacing = xray_header.get_voxel_spacing()\n",
    "        \n",
    "        # pick random nodule and mask\n",
    "        ct_idx = np.random.randint(0, len(ct_names))\n",
    "        ct, ct_header = load(os.path.join(ct_folder, ct_names[ct_idx]))\n",
    "        ct_mask, ct_mask_header = load(os.path.join(mask_folder, mask_names[ct_idx]))\n",
    "        ct = utils.preprocess_nodule(ct, ct_mask, xray, spacing)\n",
    "        \n",
    "        \n",
    "        # pick lung mask\n",
    "        lung_mask, _ = load(os.path.join(lung_segment_folder, lung_segment_names[xray_idx]))\n",
    "        lung_edge_brush_thickness = int(ct.shape[0]/2) if ct.shape[0] > ct.shape[1] else int(ct.shape[1]/2)\n",
    "        lung_mask = utils.preprocess_lung_mask(lung_mask, lung_edge_brush_thickness)\n",
    "        \n",
    "        # set spacial parameters based on pre processed lung mask\n",
    "        x, y = utils.get_random_location(lung_mask)\n",
    "        location = (x, y)\n",
    "        width = ct.shape[0] \n",
    "        height = ct.shape[1]\n",
    "        \n",
    "        # normalize nodule to xray range\n",
    "        ct = utils.augment_nodule(ct)[0]\n",
    "        \n",
    "        C = 0.25\n",
    "        \n",
    "        # superimpose\n",
    "        result_xray = utils.spherical_superimpose((x,y), ct, xray, C)\n",
    "        \n",
    "        # Nodule image\n",
    "        if (in_development):\n",
    "            patch_width = 60 if width < 60 else width\n",
    "            patch_height = 60 if height < 60 else height\n",
    "            \n",
    "            bb = patches.Rectangle(( int(x-0.5*patch_width), int(y-0.5*patch_height)), \n",
    "                                    patch_width, patch_height, edgecolor='r',\n",
    "                                    linewidth=1, facecolor='none')\n",
    "            if samples_count > 1:\n",
    "                ax[i, 0].imshow(ct.T, cmap='gray')\n",
    "                ax[i, 1].imshow(result_xray.T, cmap='gray')\n",
    "                ax[i, 1].add_patch(bb)\n",
    "                ax[i, 2].imshow(result_xray[x-width:x+width, y-height:y+height].T, cmap = 'gray')\n",
    "                ax[i].set_title('temp')\n",
    "            else:\n",
    "                print(ct_names[ct_idx])\n",
    "                ax[0].imshow(ct.T, cmap='gray')\n",
    "                ax[1].imshow(result_xray.T, cmap='gray')\n",
    "                ax[1].add_patch(bb)\n",
    "                ax[2].imshow(result_xray[x-width:x+width, y-height:y+height].T, cmap = 'gray')\n",
    "        else:\n",
    "            image_name = f\"{time.strftime('%Y%m%d_%H%M%S')}.mha\"\n",
    "            save(result_xray, f\"{results_folder}/images/C{str(C)}/{image_name}\")\n",
    "            gen_metadata['height'].append(height)\n",
    "            gen_metadata['original_name'].append('-')\n",
    "            gen_metadata['width'].append(width)\n",
    "            gen_metadata['x'].append(x)\n",
    "            gen_metadata['y'].append(y)\n",
    "            gen_metadata['img_name'].append(image_name)\n",
    "            gen_metadata['dataset'].append('-')\n",
    "    \n",
    "    except:\n",
    "        exception_count+=1\n",
    "        continue\n",
    "    \n",
    "if (not in_development):\n",
    "    metadata_names = next(walk(metadata_folder))[2]\n",
    "    print(metadata_folder)\n",
    "    pd.DataFrame(gen_metadata,\n",
    "                columns=['height', 'img_name', 'width', 'x', 'y', 'original_name', 'dataset']).to_csv(f\"{results_folder}/metadata/metadata_{len(metadata_names)}.csv\",index=False)\n",
    "                \n",
    "print(\"exception rate\", exception_count/samples_count)"
   ],
   "outputs": [
    {
     "output_type": "stream",
     "name": "stderr",
     "text": [
      "  2%|▏         | 5/310 [00:12<14:41,  2.89s/it]"
     ]
    }
   ],
   "metadata": {}
  },
  {
   "cell_type": "code",
   "execution_count": null,
   "source": [],
   "outputs": [],
   "metadata": {}
  }
 ],
 "metadata": {
  "colab": {
   "include_colab_link": true,
   "name": "segment_nodule.ipynb",
   "provenance": []
  },
  "interpreter": {
   "hash": "d9005f7766a5b51ae38a5eda54756587117839652b4f118131334a2bcd1741cc"
  },
  "kernelspec": {
   "name": "python3",
   "display_name": "Python 3.8.10 64-bit ('isimi-2021': conda)"
  },
  "language_info": {
   "name": "python",
   "version": "3.8.10",
   "mimetype": "text/x-python",
   "codemirror_mode": {
    "name": "ipython",
    "version": 3
   },
   "pygments_lexer": "ipython3",
   "nbconvert_exporter": "python",
   "file_extension": ".py"
  }
 },
 "nbformat": 4,
 "nbformat_minor": 1
}