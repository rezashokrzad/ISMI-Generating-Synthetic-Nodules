{
    "cells": [
        {
            "cell_type": "code",
            "execution_count": null,
            "source": [
                "complete_metadata_df.to_csv(f'{data_folder_path}/extended_training_data/metadata.csv', index=False, mode='w+')\n",
                "\n",
                "\n",
                "def generate_data_set(names, all_metadata, output_file, num_files=100):\n",
                "    \"\"\"\n",
                "    generate dataset and\n",
                "\n",
                "    :param names: all names of files (.mha files)\n",
                "    :param all_metadata: metadata of names files\n",
                "    :param output_file: outputs normalized images of num_files random records from names, and metadata file\n",
                "    :param num_files: num files saved to output_file and represented in meta datafile\n",
                "    :return: None\n",
                "    \"\"\"\n",
                "    dataset_metadata = pd.DataFrame(columns=all_metadata.columns)\n",
                "    dataset_names = names[np.random.randint(0, len(names), size=num_files)]\n",
                "    for name in dataset_names:\n",
                "        img = load(os.path.join(training_data_folder, name))[0]\n",
                "        img = normalize_x_ray(img)\n",
                "        save(img, os.path.join(evaluation_data_folder, name.split(\".\")[0]+\".png\"))\n",
                "        if name in list(all_metadata['img_name']):\n",
                "            records = all_metadata[all_metadata['img_name'] == name]\n",
                "            records['img_name'] = records['img_name'].iloc[0].split('.')[0]+\".png\"\n",
                "            dataset_metadata = dataset_metadata.append(records)\n",
                "\n",
                "    dataset_metadata.to_csv(output_file)"
            ],
            "outputs": [],
            "metadata": {}
        }
    ],
    "metadata": {
        "orig_nbformat": 4,
        "language_info": {
            "name": "python"
        }
    },
    "nbformat": 4,
    "nbformat_minor": 2
}