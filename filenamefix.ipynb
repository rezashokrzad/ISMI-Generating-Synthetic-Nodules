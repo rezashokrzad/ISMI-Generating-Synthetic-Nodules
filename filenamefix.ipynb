{
    "cells": [
        {
            "cell_type": "code",
            "execution_count": 5,
            "source": [
                "# Fix for if you have files with the old filename convention\n",
                "# !!!IMPORTANT!!!: make sure filenames below are correct before running the second cell\n",
                "\n",
                "import json\n",
                "import os\n",
                "from os import walk\n",
                "\n",
                "config = json.load(open('config.json'))\n",
                "data_folder_path = config[\"data_folder_path\"]\n",
                "results_folder = f\"{data_folder_path}/extended_training_data/images/C0.25\"\n",
                "filenames = next(walk(results_folder))[2]"
            ],
            "outputs": [
                {
                    "output_type": "execute_result",
                    "data": {
                        "text/plain": [
                            "930"
                        ]
                    },
                    "metadata": {},
                    "execution_count": 5
                }
            ],
            "metadata": {}
        },
        {
            "cell_type": "code",
            "execution_count": 11,
            "source": [
                "for fname in filenames:\n",
                "    old_name = fname\n",
                "    new_name = old_name.replace(old_name, old_name.replace(\":\", \"\"))\n",
                "    old_name = f\"{results_folder}/{old_name}\"\n",
                "    new_name = f\"{results_folder}/{new_name}\"\n",
                "    os.replace(old_name, new_name)"
            ],
            "outputs": [],
            "metadata": {}
        }
    ],
    "metadata": {
        "orig_nbformat": 4,
        "language_info": {
            "name": "python",
            "version": "3.8.10",
            "mimetype": "text/x-python",
            "codemirror_mode": {
                "name": "ipython",
                "version": 3
            },
            "pygments_lexer": "ipython3",
            "nbconvert_exporter": "python",
            "file_extension": ".py"
        },
        "kernelspec": {
            "name": "python3",
            "display_name": "Python 3.8.10 64-bit ('isimi-2021': conda)"
        },
        "interpreter": {
            "hash": "d9005f7766a5b51ae38a5eda54756587117839652b4f118131334a2bcd1741cc"
        }
    },
    "nbformat": 4,
    "nbformat_minor": 2
}